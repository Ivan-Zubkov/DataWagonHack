{
 "cells": [
  {
   "cell_type": "markdown",
   "id": "a01b7af7-6955-480e-baae-dad901d6b1c8",
   "metadata": {},
   "source": [
    "## Load Libraries"
   ]
  },
  {
   "cell_type": "code",
   "execution_count": 1,
   "id": "87095c6e-2621-4bf9-b5cf-783bcd59650b",
   "metadata": {},
   "outputs": [],
   "source": [
    "# !pip install fastparquet"
   ]
  },
  {
   "cell_type": "code",
   "execution_count": 2,
   "id": "28e17b55-4eb1-410e-b9e3-b137f7e4a5ee",
   "metadata": {},
   "outputs": [],
   "source": [
    "# !pip install imblearn"
   ]
  },
  {
   "cell_type": "code",
   "execution_count": 1,
   "id": "06579912-2ba9-469e-b7be-818228a7411f",
   "metadata": {},
   "outputs": [],
   "source": [
    "import warnings\n",
    "warnings.filterwarnings('ignore')"
   ]
  },
  {
   "cell_type": "code",
   "execution_count": 2,
   "id": "4b657499-3626-4bc0-8953-62296369fb0c",
   "metadata": {},
   "outputs": [],
   "source": [
    "from datetime import date, timedelta"
   ]
  },
  {
   "cell_type": "code",
   "execution_count": 3,
   "id": "b892123f-5869-4383-a91f-b13070ed0c39",
   "metadata": {},
   "outputs": [],
   "source": [
    "import pandas as pd\n",
    "import numpy as np\n",
    "\n",
    "from imblearn.over_sampling import RandomOverSampler\n",
    "from tqdm.notebook import tqdm\n",
    "from sklearn.model_selection import train_test_split\n",
    "from sklearn.metrics import f1_score, accuracy_score\n",
    "from catboost import CatBoostClassifier, Pool\n",
    "\n",
    "from matplotlib import pyplot as plt\n",
    "import seaborn as sns\n",
    "%matplotlib inline"
   ]
  },
  {
   "cell_type": "code",
   "execution_count": 4,
   "id": "92081ccb-9f14-438e-9bbb-fa64697920f2",
   "metadata": {},
   "outputs": [],
   "source": [
    "# Custom metric\n",
    "from metrics_f1 import calc_f1_score"
   ]
  },
  {
   "cell_type": "markdown",
   "id": "7e1d4b10-c19d-45e3-aee1-0eab1e316f3e",
   "metadata": {},
   "source": [
    "## Load Data"
   ]
  },
  {
   "cell_type": "code",
   "execution_count": 82,
   "id": "7a264a42-9092-4401-b204-fd1c4a476264",
   "metadata": {},
   "outputs": [],
   "source": [
    "# Загрузка данных, собранных c июля 2022 по январь 2023\n",
    "\n",
    "path_train = r\"./\"\n",
    "\n",
    "# данные по дислокации\n",
    "dislok = pd.read_parquet(path_train + '/dislok_wagons.parquet').convert_dtypes()\n",
    "# данные по текущим ремонтам\n",
    "pr_rem = pd.read_parquet(path_train + '/pr_rems.parquet').convert_dtypes()\n",
    "# список вагонов с остаточным пробегом на момент прогноза\n",
    "wag_prob = pd.read_parquet(path_train + '/wagons_probeg_ownersip.parquet').convert_dtypes()\n",
    "# параметры вагона\n",
    "wag_param = pd.read_parquet(path_train + '/wag_params.parquet').convert_dtypes()\n",
    "# таргет по прогноза выбытия вагонов в ПР на месяц и на 10 дней\n",
    "target = pd.read_csv(path_train +'/target/y_train.csv').convert_dtypes()\n",
    "# текущие ремонты вагонов\n",
    "tr_rem = pd.read_parquet(path_train + '/tr_rems.parquet').convert_dtypes()\n",
    "# данные по КТИ\n",
    "kti_izm = pd.read_parquet(path_train + '/kti_izm.parquet').convert_dtypes()"
   ]
  },
  {
   "cell_type": "code",
   "execution_count": 83,
   "id": "ee8262a5-cb2c-4aa6-9848-07f035ed166c",
   "metadata": {},
   "outputs": [],
   "source": [
    "# Загрузка данных, собранных в феврале 2023\n",
    "\n",
    "path_train = r\"test\"\n",
    "\n",
    "dislok_feb = pd.read_parquet(path_train + '/dislok_wagons.parquet').convert_dtypes()\n",
    "pr_rem_feb = pd.read_parquet(path_train + '/pr_rems.parquet').convert_dtypes()\n",
    "wag_prob_feb = pd.read_parquet(path_train + '/wagons_probeg_ownersip.parquet').convert_dtypes()\n",
    "wag_param_feb = pd.read_parquet(path_train + '/wag_params.parquet').convert_dtypes()\n",
    "target_feb = pd.read_csv(path_train +'/target/y_test.csv').convert_dtypes()\n",
    "tr_rem_feb = pd.read_parquet(path_train + '/tr_rems.parquet').convert_dtypes()\n",
    "kti_izm_feb = pd.read_parquet(path_train + '/kti_izm.parquet').convert_dtypes()"
   ]
  },
  {
   "cell_type": "markdown",
   "id": "7bee039b-e41b-410a-b771-0444875ec2ac",
   "metadata": {},
   "source": [
    "## Minimal Data Preprocessing"
   ]
  },
  {
   "cell_type": "code",
   "execution_count": 86,
   "id": "c0751836-efc9-4416-9050-840f9d8a0614",
   "metadata": {},
   "outputs": [],
   "source": [
    "# Соединяем данные в один датафрейм\n",
    "target = pd.concat([target, target_feb])\n",
    "\n",
    "data_df = pd.DataFrame()\n",
    "month_uniq = sorted(list(target['month'].value_counts().index))\n",
    "\n",
    "# Присваиваем метки классов для данных каждого следующего месяца предыдущему\n",
    "# Для установки соответствия объект - класс, предсказанный по нему\n",
    "for i, date in enumerate(month_uniq[:-1]):\n",
    "    month_f = target[target['month'] == month_uniq[i]]\n",
    "    month_s = target[target['month'] == month_uniq[i + 1]]\n",
    "    \n",
    "    month_f = month_f.drop(columns=['target_month', 'target_day'])\n",
    "    month_f = month_f.merge(month_s.drop(columns=['month']), \n",
    "                            on='wagnum', how='left')\n",
    "    data_df = pd.concat([data_df, month_f])\n",
    "    \n",
    "data_df = data_df.fillna(0)"
   ]
  },
  {
   "cell_type": "code",
   "execution_count": 87,
   "id": "1498ec25-785a-438a-88bd-b2c4a7011e62",
   "metadata": {},
   "outputs": [],
   "source": [
    "# предобработка данных из других датафреймов\n",
    "# фича 'wagnum_month' нужна, чтобы оставить по 1 записи каждого вагона в каджый месяц\n",
    "\n",
    "dislok['month_number'] = pd.to_datetime(dislok['plan_date']).dt.month\n",
    "dislok['wagnum_month'] = dislok['wagnum'].astype(str) + \" \" + dislok['month_number'].astype(str)\n",
    "dislok = dislok.sort_values(by='plan_date')\n",
    "dislok = dislok.drop_duplicates(subset = 'wagnum_month', keep='first')\n",
    "\n",
    "wag_prob['wagnum_month'] = wag_prob['wagnum'].astype(str) + \" \" + wag_prob['month'].astype(str)\n",
    "wag_prob = wag_prob.drop_duplicates(subset = 'wagnum_month', keep='first')\n",
    "\n",
    "kti_izm['wagnum_month'] = kti_izm['wagnum'].astype(str) + \" \" + pd.to_datetime(kti_izm['operation_date_dttm']).dt.month.astype(str)\n",
    "kti_izm = kti_izm.drop(columns='operation_date_dttm')\n",
    "kti_izm = kti_izm.groupby('wagnum_month').mean().reset_index()"
   ]
  },
  {
   "cell_type": "code",
   "execution_count": 88,
   "id": "36f9c5ef-d380-45d8-b15d-0d38d10d1657",
   "metadata": {},
   "outputs": [],
   "source": [
    "#предобработка данных из других датафреймов для февраля\n",
    "\n",
    "dislok_feb['month_number'] = pd.to_datetime(dislok_feb['plan_date']).dt.month\n",
    "dislok_feb['wagnum_month'] = dislok_feb['wagnum'].astype(str) + \" \" + dislok_feb['month_number'].astype(str)\n",
    "dislok_feb = dislok_feb.sort_values(by='plan_date')\n",
    "dislok_feb = dislok_feb.drop_duplicates(subset = 'wagnum_month', keep='first')\n",
    "\n",
    "wag_prob_feb['wagnum_month'] = wag_prob_feb['wagnum'].astype(str) + \" \" + wag_prob_feb['month'].astype(str)\n",
    "wag_prob_feb = wag_prob_feb.drop_duplicates(subset = 'wagnum_month', keep='first')\n",
    "\n",
    "kti_izm_feb['wagnum_month'] = kti_izm_feb['wagnum'].astype(str) + \" \" + pd.to_datetime(kti_izm_feb['operation_date_dttm']).dt.month.astype(str)\n",
    "kti_izm_feb = kti_izm_feb.drop(columns='operation_date_dttm')\n",
    "kti_izm_feb = kti_izm_feb.groupby('wagnum_month').mean().reset_index()"
   ]
  },
  {
   "cell_type": "code",
   "execution_count": 89,
   "id": "5b1e8ad3-a36c-4fb0-876f-0ab83b96a3c7",
   "metadata": {},
   "outputs": [],
   "source": [
    "data_df['wagnum_month'] = data_df['wagnum'].astype(str) + \" \" + pd.to_datetime(data_df['month']).dt.month.astype(str)\n",
    "\n",
    "data_df_feb = target[target.month == '2023-02-01'].drop(columns = ['target_month', 'target_day'])\n",
    "data_df_feb['wagnum_month'] = data_df_feb['wagnum'].astype(str) + \" \" + pd.to_datetime(data_df_feb['month']).dt.month.astype(str)"
   ]
  },
  {
   "cell_type": "code",
   "execution_count": 90,
   "id": "66ce5fb3-70f4-4d6b-86f4-83f6863d9b36",
   "metadata": {},
   "outputs": [],
   "source": [
    "# Сливаем данные из нескольких таблиц\n",
    "\n",
    "data = data_df.merge(wag_param, how='left', on='wagnum')\n",
    "data = data.merge(dislok[['date_kap', 'date_dep', 'wagnum_month']], on='wagnum_month', how='left')\n",
    "data = data.merge(wag_prob[['ost_prob', 'wagnum_month']], on='wagnum_month', how='left')\n",
    "data = data.merge(kti_izm.drop(['wagnum'], axis = 1), on='wagnum_month', how='left')"
   ]
  },
  {
   "cell_type": "code",
   "execution_count": 91,
   "id": "8faf5ac8-30e6-4e4e-bd53-26dcca4e6981",
   "metadata": {},
   "outputs": [],
   "source": [
    "#Сливаем данные для февраля\n",
    "\n",
    "data_feb = data_df_feb.merge(wag_param_feb, how='left', on='wagnum')\n",
    "data_feb = data_feb.merge(dislok_feb[['date_kap', 'date_dep', 'wagnum_month']], on='wagnum_month', how='left')\n",
    "data_feb = data_feb.merge(wag_prob_feb[['ost_prob', 'wagnum_month']], on='wagnum_month', how='left')\n",
    "data_feb = data_feb.merge(kti_izm_feb.drop(['wagnum'], axis = 1), on='wagnum_month', how='left')"
   ]
  },
  {
   "cell_type": "code",
   "execution_count": 92,
   "id": "47cbd64c-7bc4-413e-b36c-8ea3bffbfddd",
   "metadata": {},
   "outputs": [],
   "source": [
    "# Приведение типов\n",
    "\n",
    "data['wagnum'] = data['wagnum'].astype('object')\n",
    "data['ost_prob'] = data['ost_prob'].astype(float)\n",
    "\n",
    "data_feb['wagnum'] = data_feb['wagnum'].astype('object')\n",
    "data_feb['ost_prob'] = data_feb['ost_prob'].astype(float)\n",
    "\n",
    "izm_features = data.columns[28:44]\n",
    "data[izm_features] = data[izm_features].astype(float)\n",
    "izm_features = data_feb.columns[26:42]\n",
    "data_feb[izm_features] = data_feb[izm_features].astype(float)\n",
    "\n",
    "data['mileage_all'] = data['mileage_all'].astype(float)\n",
    "data['cnsi_volumek'] = data['cnsi_volumek'].astype(float)\n",
    "\n",
    "data_feb['mileage_all'] = data_feb['mileage_all'].astype(float)\n",
    "data_feb['cnsi_volumek'] = data_feb['cnsi_volumek'].astype(float)\n",
    "\n",
    "int_features = data.dtypes[data.dtypes=='Int64'].reset_index().iloc[:,0].values\n",
    "data[int_features] = data[int_features].astype(float) \n",
    "int_features = data_feb.dtypes[data_feb.dtypes=='Int64'].reset_index().iloc[:,0].values\n",
    "data_feb[int_features] = data_feb[int_features].astype(float) "
   ]
  },
  {
   "cell_type": "code",
   "execution_count": 93,
   "id": "dd517fe3-14ce-494f-b75e-0db092c9f06f",
   "metadata": {},
   "outputs": [],
   "source": [
    "# Еще некоторые фичи\n",
    "data['month'] = pd.to_datetime(data['month'])\n",
    "data['month_n'] = data['month'].dt.month.astype('object')\n",
    "\n",
    "cols2drop = ['date_iskl', 'tippogl']\n",
    "data = data.drop(columns=cols2drop)\n",
    "\n",
    "# Сколько дней прошло с ремонтов\n",
    "data['days_kap'] = (data['month'] - data['date_kap']).dt.days\n",
    "data['days_dep'] = (data['month'] - data['date_dep']).dt.days\n",
    "data.drop(['date_dep', 'date_kap'], axis = 1, inplace = True)\n",
    "#data.head()"
   ]
  },
  {
   "cell_type": "code",
   "execution_count": 94,
   "id": "80862754-7ba7-4a17-90a5-b5daadc865b2",
   "metadata": {},
   "outputs": [],
   "source": [
    "# аналогично для данных за февраль\n",
    "\n",
    "data_feb['month'] = pd.to_datetime(data_feb['month'])\n",
    "data_feb['month_n'] = data_feb['month'].dt.month.astype('object')\n",
    "\n",
    "cols2drop = ['date_iskl', 'tippogl']\n",
    "data_feb = data_feb.drop(columns=cols2drop)\n",
    "\n",
    "# Сколько дней прошло с ремонтов\n",
    "data_feb['days_kap'] = (data_feb['month'] - data_feb['date_kap']).dt.days\n",
    "data_feb['days_dep'] = (data_feb['month'] - data_feb['date_dep']).dt.days\n",
    "data_feb.drop(['date_dep', 'date_kap'], axis = 1, inplace = True)\n",
    "#data.head()"
   ]
  },
  {
   "cell_type": "markdown",
   "id": "e2610a1c-98d5-4538-94b3-c68103c1f5e7",
   "metadata": {},
   "source": [
    "## Minimal EDA"
   ]
  },
  {
   "cell_type": "code",
   "execution_count": 95,
   "id": "60bb6556-d1f0-4d29-8e15-0e8c284d974a",
   "metadata": {},
   "outputs": [
    {
     "data": {
      "image/png": "[encoded data removed]",
      "text/plain": [
       "<Figure size 640x480 with 1 Axes>"
      ]
     },
     "metadata": {},
     "output_type": "display_data"
    }
   ],
   "source": [
    "# Как изменяется таргет по месяцам\n",
    "\n",
    "mean_target_by_month = data.groupby(\n",
    "    'month_n', sort=False\n",
    ").agg({'target_month': 'mean'})\n",
    "mean_target_by_month = mean_target_by_month.reset_index(drop=True)\n",
    "\n",
    "plt.plot(mean_target_by_month, label='mean target');\n",
    "plt.axvline(x=4, color='r', label='valid line')\n",
    "plt.title(\"Средний таргет по месяцам\", size=15);\n",
    "plt.legend();"
   ]
  },
  {
   "cell_type": "markdown",
   "id": "547280e2-bca0-42ea-8487-a420d62da258",
   "metadata": {},
   "source": [
    "## Train/Test Split"
   ]
  },
  {
   "cell_type": "code",
   "execution_count": 96,
   "id": "f8e82fa0-c6d7-4384-82ce-f994f4ab138a",
   "metadata": {},
   "outputs": [],
   "source": [
    "target_cols = ['target_month', 'target_day']\n",
    "\n",
    "X = data.drop(columns=target_cols)\n",
    "y = data[target_cols]\n",
    "\n",
    "X_train, y_train = X, y\n",
    "X_holdout = data_feb "
   ]
  },
  {
   "cell_type": "code",
   "execution_count": 97,
   "id": "693dec57-9cf6-46a4-b91f-95f964867d43",
   "metadata": {},
   "outputs": [],
   "source": [
    "# Получаем типы столбцов\n",
    "dtypes = X_train.dtypes\n",
    "\n",
    "dt_cols = list(dtypes[(dtypes == \"datetime64[ms]\") | (dtypes == \"datetime64[ns]\")].index)\n",
    "num_cols = list(dtypes[dtypes == \"float64\"].index)\n",
    "object_cols = list(dtypes[(dtypes == \"string\") | (dtypes == \"object\")].index)"
   ]
  },
  {
   "cell_type": "code",
   "execution_count": 98,
   "id": "db3ae0ce-d0a2-4ae2-a371-9e73f79e7cce",
   "metadata": {},
   "outputs": [],
   "source": [
    "# Проверка соответствия типов\n",
    "assert len(object_cols) + len(dt_cols) + len(num_cols) + len(target_cols) == len(data.columns), \"Не совпадают размерности!\""
   ]
  },
  {
   "cell_type": "code",
   "execution_count": 99,
   "id": "aca8c95c-0e7b-44c5-bd2b-6276e75bd68b",
   "metadata": {},
   "outputs": [
    {
     "data": {
      "text/plain": [
       "43"
      ]
     },
     "execution_count": 99,
     "metadata": {},
     "output_type": "execute_result"
    }
   ],
   "source": [
    "len(data.columns)"
   ]
  },
  {
   "cell_type": "markdown",
   "id": "e1077e1a-0ebc-45c0-92ef-88ad284cdab2",
   "metadata": {
    "tags": []
   },
   "source": [
    "## Random Over Sampler"
   ]
  },
  {
   "cell_type": "code",
   "execution_count": 100,
   "id": "59a3a199-f054-4586-abbf-8a781fc4009b",
   "metadata": {},
   "outputs": [],
   "source": [
    "# Результат с ROS оказался хуже\n",
    "\n",
    "# y_train_month = y_train['target_month'].astype(int)\n",
    "# y_train_day = y_train['target_day'].astype(int)\n",
    "# ros = RandomOverSampler(random_state=17)\n",
    "# X_train, y_train_month = ros.fit_resample(X_train, y_train_month)\n",
    "# y_train['target_month'].value_counts()"
   ]
  },
  {
   "cell_type": "code",
   "execution_count": 101,
   "id": "09b75437-566d-4a1d-a472-87bf5b57d47d",
   "metadata": {},
   "outputs": [],
   "source": [
    "# y_train_month.value_counts()"
   ]
  },
  {
   "cell_type": "markdown",
   "id": "5dbb85ab-c65d-4ae2-8b11-9b22019eb70c",
   "metadata": {},
   "source": [
    "## CatBoost 1 model"
   ]
  },
  {
   "cell_type": "markdown",
   "id": "a2c3612c",
   "metadata": {},
   "source": [
    "#### Модель, для предсказаний на 30 дней"
   ]
  },
  {
   "cell_type": "code",
   "execution_count": 102,
   "id": "3f0d654b-d84e-41c0-9c58-4daca2b5dc85",
   "metadata": {},
   "outputs": [],
   "source": [
    "X_train[object_cols] = X_train[object_cols].astype('object')\n",
    "X_holdout[object_cols] = X_holdout[object_cols].astype('object')"
   ]
  },
  {
   "cell_type": "code",
   "execution_count": 105,
   "id": "1eddf3c4-f1bb-4fa2-b2ad-e714293eab0c",
   "metadata": {},
   "outputs": [],
   "source": [
    "# Пул для обучения модели\n",
    "features = num_cols + object_cols\n",
    "\n",
    "first_pool = Pool(\n",
    "    data=X_train[features],\n",
    "    label=y_train['target_month'],\n",
    "    # label=y_train_month,\n",
    "    cat_features=object_cols,\n",
    ")\n",
    "#first_eval_pool = Pool(\n",
    "#     data=X_holdout[features], \n",
    "#     label=y_holdout['target_month'].astype(int),\n",
    "#     cat_features=object_cols,\n",
    "#)"
   ]
  },
  {
   "cell_type": "code",
   "execution_count": null,
   "id": "2617c8ab-6e45-4db9-b5f6-c9fb4bf37350",
   "metadata": {},
   "outputs": [],
   "source": [
    "# Не дало положительных результатов\n",
    "# class_weights = (y_train_month.value_counts()[0] / y_train_month.shape[0],\n",
    "#                  y_train_month.value_counts()[1] / y_train_month.shape[0])"
   ]
  },
  {
   "cell_type": "code",
   "execution_count": 106,
   "id": "d22e311e-7075-479d-80dc-08b461ee8c15",
   "metadata": {},
   "outputs": [],
   "source": [
    "# Параметры модели\n",
    "model_params = dict(\n",
    "    iterations=250,\n",
    "    learning_rate=0.13,\n",
    "    random_state=17,\n",
    "    loss_function='Logloss',\n",
    "    # class_weights=class_weights,\n",
    "    eval_metric='F1',\n",
    "    l2_leaf_reg = 1.21,\n",
    "    depth = 6\n",
    ")\n",
    "\n",
    "base_model = CatBoostClassifier(**model_params)"
   ]
  },
  {
   "cell_type": "code",
   "execution_count": 107,
   "id": "e4acb283-89b9-4061-879c-d356710f9f17",
   "metadata": {},
   "outputs": [
    {
     "data": {
      "application/vnd.jupyter.widget-view+json": {
       "model_id": "780c0de2aed74950940acb849b1f49ef",
       "version_major": 2,
       "version_minor": 0
      },
      "text/plain": [
       "MetricVisualizer(layout=Layout(align_self='stretch', height='500px'))"
      ]
     },
     "metadata": {},
     "output_type": "display_data"
    },
    {
     "name": "stdout",
     "output_type": "stream",
     "text": [
      "0:\tlearn: 0.0000000\ttotal: 244ms\tremaining: 1m\n",
      "100:\tlearn: 0.6823729\ttotal: 32.5s\tremaining: 48s\n",
      "200:\tlearn: 0.7462475\ttotal: 1m 3s\tremaining: 15.6s\n",
      "249:\tlearn: 0.7562585\ttotal: 1m 19s\tremaining: 0us\n"
     ]
    },
    {
     "data": {
      "text/plain": [
       "<catboost.core.CatBoostClassifier at 0x2e23a3e2370>"
      ]
     },
     "execution_count": 107,
     "metadata": {},
     "output_type": "execute_result"
    }
   ],
   "source": [
    "# Обучение модели\n",
    "base_model.fit(\n",
    "    X=first_pool,\n",
    "    #eval_set=first_eval_pool,\n",
    "    plot=True,\n",
    "    verbose=100,\n",
    "    early_stopping_rounds=200\n",
    ")"
   ]
  },
  {
   "cell_type": "code",
   "execution_count": 108,
   "id": "c7a66fe7-ba30-4aab-b5f6-c56fc09980ad",
   "metadata": {},
   "outputs": [
    {
     "data": {
      "text/plain": [
       "0    31436\n",
       "1     2272\n",
       "dtype: int64"
      ]
     },
     "execution_count": 108,
     "metadata": {},
     "output_type": "execute_result"
    }
   ],
   "source": [
    "# Получение предсказаний\n",
    "first_y_pred = base_model.predict(X_holdout[features])\n",
    "first_y_pred = pd.Series(first_y_pred).astype(int)\n",
    "first_y_pred.value_counts()"
   ]
  },
  {
   "cell_type": "code",
   "execution_count": 109,
   "id": "ac4d3981-5616-49d1-b70b-dffdef43f0ae",
   "metadata": {},
   "outputs": [
    {
     "data": {
      "text/plain": [
       "Text(0.5, 1.0, 'Feature Importance')"
      ]
     },
     "execution_count": 109,
     "metadata": {},
     "output_type": "execute_result"
    },
    {
     "data": {
      "image/png": "[encoded data removed]",
      "text/plain": [
       "<Figure size 1200x600 with 1 Axes>"
      ]
     },
     "metadata": {},
     "output_type": "display_data"
    }
   ],
   "source": [
    "# Важность фич для обучения модели\n",
    "feature_importance = base_model.feature_importances_\n",
    "sorted_idx = np.argsort(feature_importance)\n",
    "fig = plt.figure(figsize=(12, 6))\n",
    "plt.barh(range(len(sorted_idx)), feature_importance[sorted_idx], align='center')\n",
    "plt.yticks(range(len(sorted_idx)), np.array(X_holdout.columns)[sorted_idx])\n",
    "plt.title('Feature Importance')"
   ]
  },
  {
   "cell_type": "code",
   "execution_count": 110,
   "id": "e219f82e-12cb-470d-96d6-6c462d15fe05",
   "metadata": {},
   "outputs": [],
   "source": [
    "# Записываем предсказание на 30 дней\n",
    "predict = X_holdout[['wagnum', 'month']].reset_index(drop=1)\n",
    "predict['month_number'] = pd.to_datetime(predict['month']).dt.month\n",
    "predict['wagnum_month'] = predict['wagnum'].astype(str) + \" \" + predict['month_number'].astype(str)\n",
    "predict['target_month'] = first_y_pred"
   ]
  },
  {
   "cell_type": "markdown",
   "id": "10ee448f",
   "metadata": {},
   "source": [
    "## CatBoost 2 model"
   ]
  },
  {
   "cell_type": "markdown",
   "id": "8fa4565b",
   "metadata": {},
   "source": [
    "#### Модель, для предсказаний на 10 дней"
   ]
  },
  {
   "cell_type": "code",
   "execution_count": 112,
   "id": "d0606300-8b1b-47de-90ec-8f97cd46c8b8",
   "metadata": {},
   "outputs": [],
   "source": [
    "# Добавляем предсказания, полученные ранее для предсказания на 10 дней\n",
    "X_holdout_2 = X_holdout.copy().reset_index(drop=1)\n",
    "X_holdout_2['pred_month'] = predict['target_month']\n",
    "X_holdout_2['pred_month'] = X_holdout_2['pred_month'].astype(object)\n",
    "X_train_2 = X_train.copy().reset_index(drop=1)\n",
    "X_train_2['pred_month'] = y_train['target_month']\n",
    "X_train_2['pred_month'] = X_train_2['pred_month'].astype(int).astype(object)"
   ]
  },
  {
   "cell_type": "code",
   "execution_count": 62,
   "id": "6b9d8a7f-aca7-4a36-941f-0efa9bff5516",
   "metadata": {},
   "outputs": [],
   "source": [
    "object_cols.append('pred_month')"
   ]
  },
  {
   "cell_type": "code",
   "execution_count": 65,
   "id": "9bc733c9-6201-4397-be16-aaa738e1eeba",
   "metadata": {},
   "outputs": [],
   "source": [
    "features = num_cols + object_cols\n",
    "\n",
    "second_pool = Pool(\n",
    "    data=X_train_2[features],\n",
    "    label=y_train['target_day'],\n",
    "    cat_features=object_cols,\n",
    ")\n",
    "# second_eval_pool = Pool(\n",
    "#     data=X_holdout_2[features], \n",
    "#     label=y_holdout['target_day'].astype(int),\n",
    "#     cat_features=object_cols,\n",
    "# )"
   ]
  },
  {
   "cell_type": "code",
   "execution_count": 66,
   "id": "6dfe1990-7d0f-4a61-9e73-33ebf8cea132",
   "metadata": {},
   "outputs": [],
   "source": [
    "model_params_2 = dict(\n",
    "    iterations=400,\n",
    "    learning_rate=0.13,\n",
    "    random_state=17,\n",
    "    loss_function='Logloss',\n",
    "    # class_weights=class_weights,\n",
    "    eval_metric='F1',\n",
    "    l2_leaf_reg = 1.0,\n",
    "    depth = 6\n",
    ")\n",
    "\n",
    "base_2_model = CatBoostClassifier(**model_params_2)"
   ]
  },
  {
   "cell_type": "code",
   "execution_count": 67,
   "id": "18804cf9-891d-4cd9-8ce4-d1c535ca6439",
   "metadata": {},
   "outputs": [
    {
     "data": {
      "application/vnd.jupyter.widget-view+json": {
       "model_id": "894a110e2cf24eedb5e5e1885ebba9e9",
       "version_major": 2,
       "version_minor": 0
      },
      "text/plain": [
       "MetricVisualizer(layout=Layout(align_self='stretch', height='500px'))"
      ]
     },
     "metadata": {},
     "output_type": "display_data"
    },
    {
     "name": "stdout",
     "output_type": "stream",
     "text": [
      "0:\tlearn: 0.0000000\ttotal: 307ms\tremaining: 2m 2s\n",
      "100:\tlearn: 0.4555282\ttotal: 29.3s\tremaining: 1m 26s\n",
      "200:\tlearn: 0.5682707\ttotal: 59.3s\tremaining: 58.7s\n",
      "300:\tlearn: 0.6235521\ttotal: 1m 29s\tremaining: 29.4s\n",
      "399:\tlearn: 0.6565704\ttotal: 1m 59s\tremaining: 0us\n"
     ]
    },
    {
     "data": {
      "text/plain": [
       "<catboost.core.CatBoostClassifier at 0x2e187c46940>"
      ]
     },
     "execution_count": 67,
     "metadata": {},
     "output_type": "execute_result"
    }
   ],
   "source": [
    "base_2_model.fit(\n",
    "    X=second_pool,\n",
    "    # eval_set=second_eval_pool,\n",
    "    plot=True,\n",
    "    verbose=100,\n",
    "    early_stopping_rounds=200\n",
    ")"
   ]
  },
  {
   "cell_type": "code",
   "execution_count": 68,
   "id": "98951187-2fbf-4e80-942c-a4107604e9e0",
   "metadata": {},
   "outputs": [],
   "source": [
    "second_y_pred = base_2_model.predict(X_holdout_2[features])\n",
    "second_y_pred = pd.Series(second_y_pred).astype(int)"
   ]
  },
  {
   "cell_type": "code",
   "execution_count": 69,
   "id": "6a123975-e56f-45b3-9c18-7bf4184cbf9b",
   "metadata": {},
   "outputs": [
    {
     "data": {
      "text/plain": [
       "0    101094\n",
       "1        30\n",
       "dtype: int64"
      ]
     },
     "execution_count": 69,
     "metadata": {},
     "output_type": "execute_result"
    }
   ],
   "source": [
    "second_y_pred.value_counts()"
   ]
  },
  {
   "cell_type": "code",
   "execution_count": 72,
   "id": "ca25f641-bad9-4615-bb26-44f1eb06601d",
   "metadata": {},
   "outputs": [],
   "source": [
    "predict['target_day'] = second_y_pred\n",
    "predict['month'] = predict['month'].replace('2023-02-01', '2023-03-01')\n",
    "predict['wagnum'] = predict['wagnum'].astype(int)\n",
    "predict = predict.drop(columns=['month_number', 'wagnum_month'])"
   ]
  },
  {
   "cell_type": "code",
   "execution_count": 74,
   "id": "a995b38b-af84-4474-8b8c-7a865edeeb13",
   "metadata": {},
   "outputs": [
    {
     "data": {
      "text/plain": [
       "0    100716\n",
       "1       408\n",
       "Name: target_month, dtype: int64"
      ]
     },
     "execution_count": 74,
     "metadata": {},
     "output_type": "execute_result"
    }
   ],
   "source": [
    "predict.target_month.value_counts()"
   ]
  },
  {
   "cell_type": "code",
   "execution_count": 75,
   "id": "0f449e2d-76b6-47ec-97bf-75b99af6fbd7",
   "metadata": {},
   "outputs": [
    {
     "data": {
      "text/plain": [
       "0    101094\n",
       "1        30\n",
       "Name: target_day, dtype: int64"
      ]
     },
     "execution_count": 75,
     "metadata": {},
     "output_type": "execute_result"
    }
   ],
   "source": [
    "predict.target_day.value_counts()"
   ]
  },
  {
   "cell_type": "code",
   "execution_count": 76,
   "id": "168bc362-f105-4aae-8bef-f5008e6d5c74",
   "metadata": {},
   "outputs": [],
   "source": [
    "# Записываем предсказания в файл\n",
    "y_pred = pd.read_csv('./target/y_predict.csv')"
   ]
  },
  {
   "cell_type": "code",
   "execution_count": 77,
   "id": "3f6582c8-fda3-4546-8af7-ffacd6593d08",
   "metadata": {},
   "outputs": [
    {
     "data": {
      "text/html": [
       "<div>\n",
       "<style scoped>\n",
       "    .dataframe tbody tr th:only-of-type {\n",
       "        vertical-align: middle;\n",
       "    }\n",
       "\n",
       "    .dataframe tbody tr th {\n",
       "        vertical-align: top;\n",
       "    }\n",
       "\n",
       "    .dataframe thead th {\n",
       "        text-align: right;\n",
       "    }\n",
       "</style>\n",
       "<table border=\"1\" class=\"dataframe\">\n",
       "  <thead>\n",
       "    <tr style=\"text-align: right;\">\n",
       "      <th></th>\n",
       "      <th>wagnum</th>\n",
       "      <th>month</th>\n",
       "    </tr>\n",
       "  </thead>\n",
       "  <tbody>\n",
       "    <tr>\n",
       "      <th>0</th>\n",
       "      <td>33361</td>\n",
       "      <td>2023-03-01</td>\n",
       "    </tr>\n",
       "    <tr>\n",
       "      <th>1</th>\n",
       "      <td>33364</td>\n",
       "      <td>2023-03-01</td>\n",
       "    </tr>\n",
       "    <tr>\n",
       "      <th>2</th>\n",
       "      <td>33366</td>\n",
       "      <td>2023-03-01</td>\n",
       "    </tr>\n",
       "    <tr>\n",
       "      <th>3</th>\n",
       "      <td>33358</td>\n",
       "      <td>2023-03-01</td>\n",
       "    </tr>\n",
       "    <tr>\n",
       "      <th>4</th>\n",
       "      <td>33349</td>\n",
       "      <td>2023-03-01</td>\n",
       "    </tr>\n",
       "    <tr>\n",
       "      <th>...</th>\n",
       "      <td>...</td>\n",
       "      <td>...</td>\n",
       "    </tr>\n",
       "    <tr>\n",
       "      <th>33702</th>\n",
       "      <td>17621</td>\n",
       "      <td>2023-03-01</td>\n",
       "    </tr>\n",
       "    <tr>\n",
       "      <th>33703</th>\n",
       "      <td>25045</td>\n",
       "      <td>2023-03-01</td>\n",
       "    </tr>\n",
       "    <tr>\n",
       "      <th>33704</th>\n",
       "      <td>27156</td>\n",
       "      <td>2023-03-01</td>\n",
       "    </tr>\n",
       "    <tr>\n",
       "      <th>33705</th>\n",
       "      <td>21361</td>\n",
       "      <td>2023-03-01</td>\n",
       "    </tr>\n",
       "    <tr>\n",
       "      <th>33706</th>\n",
       "      <td>8061</td>\n",
       "      <td>2023-03-01</td>\n",
       "    </tr>\n",
       "  </tbody>\n",
       "</table>\n",
       "<p>33707 rows × 2 columns</p>\n",
       "</div>"
      ],
      "text/plain": [
       "       wagnum       month\n",
       "0       33361  2023-03-01\n",
       "1       33364  2023-03-01\n",
       "2       33366  2023-03-01\n",
       "3       33358  2023-03-01\n",
       "4       33349  2023-03-01\n",
       "...       ...         ...\n",
       "33702   17621  2023-03-01\n",
       "33703   25045  2023-03-01\n",
       "33704   27156  2023-03-01\n",
       "33705   21361  2023-03-01\n",
       "33706    8061  2023-03-01\n",
       "\n",
       "[33707 rows x 2 columns]"
      ]
     },
     "execution_count": 77,
     "metadata": {},
     "output_type": "execute_result"
    }
   ],
   "source": [
    "y_pred"
   ]
  },
  {
   "cell_type": "code",
   "execution_count": 78,
   "id": "f31fbcfa-50ae-40b4-b2ae-191752380802",
   "metadata": {},
   "outputs": [],
   "source": [
    "y_pred = y_pred.merge(predict.drop(columns=['month']), on='wagnum', how='left')\n",
    "y_pred.to_csv('submission_night.csv', index = False)"
   ]
  }
 ],
 "metadata": {
  "kernelspec": {
   "display_name": "Python 3 (ipykernel)",
   "language": "python",
   "name": "python3"
  },
  "language_info": {
   "codemirror_mode": {
    "name": "ipython",
    "version": 3
   },
   "file_extension": ".py",
   "mimetype": "text/x-python",
   "name": "python",
   "nbconvert_exporter": "python",
   "pygments_lexer": "ipython3",
   "version": "3.9.13"
  }
 },
 "nbformat": 4,
 "nbformat_minor": 5
}
